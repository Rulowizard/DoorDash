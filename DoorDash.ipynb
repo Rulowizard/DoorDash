{
 "cells": [
  {
   "cell_type": "code",
   "execution_count": 29,
   "metadata": {},
   "outputs": [],
   "source": [
    "def evenSubarray(numbers,k):\n",
    "    condition=True\n",
    "    indice = 0\n",
    "    resultados_int = 0\n",
    "    num_odd = 0\n",
    "    largo_sub = 0\n",
    "    resultados_arr=[]\n",
    "    sub_array=[]\n",
    "    temp_str=''\n",
    "    \n",
    "    if k>=1 and k<=1000 and max(numbers)<=250 and min(numbers)>=1:\n",
    "        while condition:\n",
    "\n",
    "            if  indice+largo_sub<len(numbers) and numbers[indice+largo_sub]%2==0:\n",
    "                sub_array.append( numbers[indice:indice+largo_sub+1] )\n",
    "                largo_sub+=1\n",
    "            elif  indice+largo_sub<len(numbers) and numbers[indice+largo_sub]%2!=0 and num_odd<k:\n",
    "                sub_array.append( numbers[indice:indice+largo_sub+1] )\n",
    "                largo_sub+=1\n",
    "                num_odd+=1\n",
    "            else:\n",
    "                indice+=1\n",
    "                largo_sub=0\n",
    "                num_odd=0\n",
    "                resultados_int = resultados_int + len(sub_array)\n",
    "                sub_array=[]\n",
    "\n",
    "\n",
    "            if indice== len(numbers):\n",
    "                condition=False\n",
    "\n",
    "        return resultados_int\n",
    "    else:\n",
    "        return -1"
   ]
  },
  {
   "cell_type": "code",
   "execution_count": 32,
   "metadata": {},
   "outputs": [],
   "source": [
    "def test_even():\n",
    "    numbers = [6,3,5,8]\n",
    "    k= 1\n",
    "    return evenSubarray(numbers,k) ==6"
   ]
  },
  {
   "cell_type": "code",
   "execution_count": 33,
   "metadata": {},
   "outputs": [
    {
     "data": {
      "text/plain": [
       "True"
      ]
     },
     "execution_count": 33,
     "metadata": {},
     "output_type": "execute_result"
    }
   ],
   "source": [
    "test_even()"
   ]
  }
 ],
 "metadata": {
  "kernelspec": {
   "display_name": "Python 3",
   "language": "python",
   "name": "python3"
  },
  "language_info": {
   "codemirror_mode": {
    "name": "ipython",
    "version": 3
   },
   "file_extension": ".py",
   "mimetype": "text/x-python",
   "name": "python",
   "nbconvert_exporter": "python",
   "pygments_lexer": "ipython3",
   "version": "3.6.9"
  }
 },
 "nbformat": 4,
 "nbformat_minor": 2
}
